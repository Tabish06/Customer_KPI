{
 "cells": [
  {
   "cell_type": "code",
   "execution_count": 16,
   "metadata": {},
   "outputs": [
    {
     "name": "stdout",
     "output_type": "stream",
     "text": [
      "Sample and procedure\r\n",
      "Study 1\r\n",
      "Participants were recruited using the StudyResponse Project (The StudyResponse\r\n",
      "Project, n.d.). Creative activity, recovery experiences, and openness to\r\n",
      "experience were assessed in Wave 1, whereas performance-related outcomes were\r\n",
      "assessed in Wave 2. We obtained\r\n",
      "data of 92 active duty captains from the United States Air Force who were required to\r\n",
      "participate in an incentivized 6-week leadership development programme.\n"
     ]
    }
   ],
   "source": [
    "# import Algorithmia\n",
    "# from Algorithmia.acl import ReadAcl, AclType\n",
    "\n",
    "# nlp_directory = client.dir(\"data://abhalla/nlp_directory\")\n",
    "# # Create your data collection if it does not exist\n",
    "# #nlp_directory.create()\n",
    "\n",
    "# acl = nlp_directory.get_permissions()  # Acl object\n",
    "# acl.read_acl == AclType.my_algos  # True\n",
    "\n",
    "# # Update permissions to private\n",
    "# nlp_directory.update_permissions(ReadAcl.private)\n",
    "# nlp_directory.get_permissions().read_acl == AclType.private # True\n",
    "\n",
    "# text_file= \"data://abhalla/nlp_directory/test.txt\"\n",
    "\n",
    "# if client.file(text_file).exists() is False:\n",
    "#     # Upload local file\n",
    "#     client.file(text_file).putFile(\"C:\\\\Users\\\\akank\\\\Desktop\\\\Semester 2\\\\Big Data\\\\test.txt\")\n",
    "    \n",
    "# if client.file(text_file).exists() is True:\n",
    "#     localfile = client.file(text_file).getFile()\n",
    "\n",
    "# if client.file(text_file).exists() is True:\n",
    "#     input = client.file(text_file).getString()\n",
    "\n",
    "# algo = client.algo('nlp/Summarizer/0.1.3')\n",
    "# # Pass in input required by algorithm\n",
    "# try:\n",
    "#     # Get the summary result of your file's contents\n",
    "#     print(algo.pipe(input).result)\n",
    "# except Exception as error:\n",
    "#     # Algorithm error if, for example, the input is not correctly formatted\n",
    "#     print(error)"
   ]
  },
  {
   "cell_type": "code",
   "execution_count": 11,
   "metadata": {},
   "outputs": [
    {
     "name": "stdout",
     "output_type": "stream",
     "text": [
      "technology Hypothesis 1: Plants with commitment human resource systems will have better manufacturing performance than plants with control human resource systems. Hypothesis 2: Turnover will be higher in control human resource systems than in commitment human resource systems. THEORETICAL DEVELOPMENT AND HYPOTHESES Testing the strategic human resource perspective first requires catego- rizing organizations into a meaningful typology of human resource systems. Finally, Hypothesis 3 states that the negative relationship between turn- over and manufacturing performance will be higher in commitment human resource systems than in control systems. Further, research progress on the human resource strategy perspective depends critically on the development of conceptually and methodologi- cally sound measures of the human resource system construct. In contrast, commitment human resource systems shape desired employee behaviors and attitudes by forging psychological links between organizational and employee goals. In addition, the study has shown that identification of human resource systems promises to add significantly to understanding the relationship between turnover and organizational performance.\n"
     ]
    }
   ],
   "source": [
    "import re\n",
    "import nltk\n"
   ]
  },
  {
   "cell_type": "code",
   "execution_count": 15,
   "metadata": {},
   "outputs": [],
   "source": [
    "def summarize_article(article_text):\n",
    "    article_text = re.sub(r'\\[[0-9]*\\]', ' ', article_text)  \n",
    "    article_text = re.sub(r'\\s+', ' ', article_text)  \n",
    "\n",
    "    formatted_article_text = re.sub('[^a-zA-Z]', ' ', article_text )  \n",
    "    formatted_article_text = re.sub(r'\\s+', ' ', formatted_article_text)\n",
    "    formatted_article_text = re.sub('-\\n','', formatted_article_text)\n",
    "    formatted_article_text = re.sub('\\n',' ', formatted_article_text)\n",
    "    \n",
    "    sentence_list = nltk.sent_tokenize(article_text)  \n",
    "    stopwords = nltk.corpus.stopwords.words('english')\n",
    "\n",
    "    word_frequencies = {}  \n",
    "    for word in nltk.word_tokenize(formatted_article_text):  \n",
    "        if word not in stopwords:\n",
    "            if word not in word_frequencies.keys():\n",
    "                word_frequencies[word] = 1\n",
    "            else:\n",
    "                word_frequencies[word] += 1\n",
    "    maximum_frequncy = max(word_frequencies.values())\n",
    "\n",
    "    for word in word_frequencies.keys():  \n",
    "        word_frequencies[word] = (word_frequencies[word]/maximum_frequncy)\n",
    "    sentence_scores = {}  \n",
    "    for sent in sentence_list:  \n",
    "        for word in nltk.word_tokenize(sent.lower()):\n",
    "            if word in word_frequencies.keys():\n",
    "                if len(sent.split(' ')) < 30:\n",
    "                    if sent not in sentence_scores.keys():\n",
    "                        sentence_scores[sent] = word_frequencies[word]\n",
    "                    else:\n",
    "                        sentence_scores[sent] += word_frequencies[word]\n",
    "    import heapq  \n",
    "    summary_sentences = heapq.nlargest(7, sentence_scores, key=sentence_scores.get)\n",
    "\n",
    "    summary = ' '.join(summary_sentences)  \n",
    "    return summary"
   ]
  },
  {
   "cell_type": "code",
   "execution_count": 31,
   "metadata": {},
   "outputs": [
    {
     "name": "stdout",
     "output_type": "stream",
     "text": [
      "The relationship between vol- untary turnover and workforce performance is curvilinear: it is positive as voluntary turnover increases initially but becomes negative as turnover further increases. Voluntary turnover affects workforce performance negatively by diminishing firm-specific human capital accumulations, but these losses are less severe, and their performance effects are ameliorated at high levels of turnover. We investigated whether workforce performance mediated the relationship of voluntary turnover and financial performance in Study 2 with two measures of financial performance: operating ratio and return on equity. The results consis- tently support a curvilinear pattern in which the effects of turnover on workforce performance are very strong when turnover is low but weaken as turnover increases. Although the general effects of voluntary turnover on workforce performance are considered negative, these authors detail the bene- fits of some minimum level of turnover for such performance. In two intraindustry studies, strong support emerged for curvilinearity: the relationship between voluntary turnover and workforce performance is negative, but it is attenuated as turnover increases. That is, the relationship between voluntary turnover and accident rate in this sample diminishes as turnover increases and falls to a zero slope at a turnover of 57 percent.\n"
     ]
    }
   ],
   "source": [
    "article_text_file = open(\"abs1Text/Text/sgd05amj.txt\",\"r\")\n",
    "article_text = article_text_file.read()\n",
    "print(summarize_article(article_text))"
   ]
  },
  {
   "cell_type": "code",
   "execution_count": 33,
   "metadata": {},
   "outputs": [
    {
     "name": "stdout",
     "output_type": "stream",
     "text": [
      "Journal of Management 2002 28(6) 765–785 High Performance Work Systems and Intermediate Indicators of Firm Performance Within the US Small Business Sector ∗ Sean A. Formal training can have a positive impact on employee skills, employee behavior scripts, employee motivation, employee output, and ﬁrm performance (see Blanchard & Thacker, 1999; Kirkpatrick, 1998). Thus, within the US small business sector gaining access to a workforce that produces superior employee output is a source of sustainable competitive advantage. Thus, pay level (a component of this study’s HPWS) may enhance the ﬁrm’s ability to gain access to a workforce that produces superior employee output. Thus voluntary turnover may be of greater importance than workforce turnover within the US small business sector. High Performance Work Systems and Intermediate Indicators of Firm Performance Workforce turnover. Within the US small business sector it is expected that there will be a negative relationship between the use of HPWS and workforce turnover.\n"
     ]
    }
   ],
   "source": [
    "article_text_file = open(\"abs1Text/Text/w02jom.txt\",\"r\")\n",
    "article_text = article_text_file.read()\n",
    "print(summarize_article(article_text))"
   ]
  },
  {
   "cell_type": "code",
   "execution_count": 34,
   "metadata": {},
   "outputs": [
    {
     "name": "stdout",
     "output_type": "stream",
     "text": [
      "These performance measures were selected because they capture both firm market performance (market share) and financial performance (sales growth and profit after tax). Keywords: Natural environmental orientation; Corporate social responsibility; Entrepreneurship; Environmental commitment; Resource-based view 1. For instance, external and internal reporting, environmental audits and reviews, internal environmental reward systems, and employee training are included in the measure of environmental commitment. Specifically: to firms, Hypothesis 1: NEO is a higher order construct composed of three dimensions: (a) entrepreneurship, (b) CSR, and (c) environmental commitment. Effective communi- cation of the environmental impact of the products is likely to positively affect a firm’s performance through its reputational advantage (Miles and Covin, 2000). Based on the literature in this area, the authors define NEO as comprising three components: entrepreneurship, corporate social responsibility (CSR), and commitment to the natural environment. As previously mentioned, this study is the first to explic- itly test Hart’s (1995) theory of a competitive advantage based upon the firm’s relationship to the natural environment.\n"
     ]
    }
   ],
   "source": [
    "article_text_file = open(\"abs1Text/Text/mo05jbr.txt\",\"r\")\n",
    "article_text = article_text_file.read()\n",
    "print(summarize_article(article_text))"
   ]
  },
  {
   "cell_type": "code",
   "execution_count": 35,
   "metadata": {},
   "outputs": [
    {
     "name": "stdout",
     "output_type": "stream",
     "text": [
      "technology Hypothesis 1: Plants with commitment human resource systems will have better manufacturing performance than plants with control human resource systems. Hypothesis 2: Turnover will be higher in control human resource systems than in commitment human resource systems. THEORETICAL DEVELOPMENT AND HYPOTHESES Testing the strategic human resource perspective first requires catego- rizing organizations into a meaningful typology of human resource systems. Finally, Hypothesis 3 states that the negative relationship between turn- over and manufacturing performance will be higher in commitment human resource systems than in control systems. Further, research progress on the human resource strategy perspective depends critically on the development of conceptually and methodologi- cally sound measures of the human resource system construct. In contrast, commitment human resource systems shape desired employee behaviors and attitudes by forging psychological links between organizational and employee goals. In addition, the study has shown that identification of human resource systems promises to add significantly to understanding the relationship between turnover and organizational performance.\n"
     ]
    }
   ],
   "source": [
    "article_text_file = open(\"abs1Text/Text/a94amj.txt\",\"r\")\n",
    "article_text = article_text_file.read()\n",
    "print(summarize_article(article_text))\n"
   ]
  },
  {
   "cell_type": "code",
   "execution_count": 36,
   "metadata": {},
   "outputs": [
    {
     "name": "stdout",
     "output_type": "stream",
     "text": [
      "s ( r o h t u a e h t o t y s e t r u o c . s m r o f n i . / g r o . Finally, we ﬁnd that, at high-process-conformance stores, turnover does not decrease store performance, whereas at low- process-conformance stores, turnover does decrease store performance. We ﬁnd that increasing turnover does not have a negative effect on store performance at high-process-conformance stores; at low-process-conformance stores, the negative effect of turnover is pronounced. To make sure that turnover is not endogenous to per- formance, we asked store managers, store employees, and corporate managers what drives turnover at Borders stores. Percent of full-time employees Total payroll (in ten thousands) Number of local competitors Percent of local unemployment Store ﬁxed effects?\n"
     ]
    }
   ],
   "source": [
    "article_text_file = open(\"abs1Text/Text/th08os.txt\",\"r\")\n",
    "article_text = article_text_file.read()\n",
    "print(summarize_article(article_text))\n"
   ]
  },
  {
   "cell_type": "code",
   "execution_count": 37,
   "metadata": {},
   "outputs": [
    {
     "name": "stdout",
     "output_type": "stream",
     "text": [
      "d e r e t n e s a w s e ) e 9 y - 8 o l = p m n e ( f . y l e v i t c e p s e r , 0 2 - 6 1 d n a . o c i e n l u b m a i r m a v o l c o / r . D S l g n i n i M n o i t c u r t s n o C M D S . - n o i s s e r g e R . l l . Correlational analy- ses conducted by individual staffing practices revealed that the number of employees was significantly related with two of the five staffing practices.\n"
     ]
    }
   ],
   "source": [
    "article_text_file = open(\"abs1Text/Text/tr93pp.txt\",\"r\")\n",
    "article_text = article_text_file.read()\n",
    "print(summarize_article(article_text))\n"
   ]
  },
  {
   "cell_type": "code",
   "execution_count": 39,
   "metadata": {},
   "outputs": [
    {
     "name": "stdout",
     "output_type": "stream",
     "text": [
      "Management leadership is directly related to training, employee relations, supplier quality management, and prod- uct design, and indirectly related to quality data and reporting, and process management. The positive effect of quality data and reporting on ﬁrm performance is through three other TQM techniques: supplier quality management, product/service design, and process management. Management leadership, train- ing, employee relations, and quality data and reporting affect operating performance through supplier qual- ity management, product/service design, and process management. It is also important that they recognize the indirect positive effects of supplier quality management on quality performance, and ﬁ- nancial and market performance. Supplier quality management Effective supplier quality management is facilitated by long-term, cooperative relationships with as few suppliers as possible to obtain quality materials and/or services. Perceived performance (subjective) Operating performance Product quality Questionnaire Hierarchical regression analysis Supportive TQM factor has an indirect effect on product quality through core TQM factor. Supplier quality management emerges as an impor- tant component of TQM, directly and positively affect- ing product/service design, process management, and inventory management performance.\n"
     ]
    }
   ],
   "source": [
    "article_text_file = open(\"abs1Text/Text/k03jom.txt\",\"r\")\n",
    "article_text = article_text_file.read()\n",
    "print(summarize_article(article_text))\n"
   ]
  },
  {
   "cell_type": "code",
   "execution_count": 41,
   "metadata": {},
   "outputs": [
    {
     "name": "stdout",
     "output_type": "stream",
     "text": [
      "The same variables that explain the extent of social disclosures also seem to explain the content of such disclosures on corporate websites. Public awareness and interest in social, environmental and ethical issues and increased attention in mass media have resulted in more corporations making social disclosures about themselves (e.g. Management that has the knowledge to make a company profitable also has the knowledge and understanding of social responsibility, which leads to more social and environmental disclosures. One explanation for not disclosing much social information in particular could be that no debate on social issues seems to prevail among these corporations. However, there are also other information channels that corporations use to communicate social and environmental information. The aim of this study is to explain the extent and content of social disclosure information on corporations’ websites. Corporate social responsibility in the mining industry: Exploring trends in social and environmental disclosure.\n"
     ]
    }
   ],
   "source": [
    "article_text_file = open(\"abs1Text/Text/tbbc09halmstaduniversity.txt\",\"r\")\n",
    "article_text = article_text_file.read()\n",
    "print(summarize_article(article_text))\n"
   ]
  },
  {
   "cell_type": "code",
   "execution_count": 42,
   "metadata": {},
   "outputs": [
    {
     "name": "stdout",
     "output_type": "stream",
     "text": [
      "These three measures of engagement in partnership, employee commitment and employee contribution, while ostensibly employer measures, could also be construed as relevant outcomes from an employee perspective. The government has since further reinforced its concrete support for partnership by setting up a Partnership Fund to stimulate a diverse range of partnership activities and initiatives. Development and Measurement of Partnership Practices A review of the literature again revealed no specific measure of partnership practices. If the principles reflect some underlying concept of partnership, then we would expect them to receive a stronger endorsement in those organizations that have made more progress towards partnership. Analysing the Outcomes of Partnership A core assumption is that partnership brings benefits to the partners in terms of the outcomes of interest to the partners. Development and Measurement of Outcomes In most analyses of partnership at work, the key partners are normally considered to be managers, employees and employee representatives. Development and Measurement of Principles of Partnership A survey of the literature revealed no prior measures of principles of partnership.\n"
     ]
    }
   ],
   "source": [
    "article_text_file = open(\"abs1Text/Text/gp01bjir.txt\",\"r\")\n",
    "article_text = article_text_file.read()\n",
    "print(summarize_article(article_text))\n"
   ]
  },
  {
   "cell_type": "code",
   "execution_count": 44,
   "metadata": {},
   "outputs": [
    {
     "name": "stdout",
     "output_type": "stream",
     "text": [
      "t n e m e g a n a m e c r u o s e r . 0 < p e t a c i d n i r e t a e r g r o | 8 0 . 0 | = s n o i t a l e r r o C . d e t r o p e r 4 3 4 . d e t r o p e r 7 7 . 1 5 2 = N e s a c n i ( 0 1 . In Model 3, we ﬁnd that outsourced call centres pay their CSRs and managers signiﬁcantly less cash pay than in-house call centres.\n"
     ]
    }
   ],
   "source": [
    "article_text_file = open(\"abs1Text/Text/jy11bjir.txt\",\"r\")\n",
    "article_text = article_text_file.read()\n",
    "print(summarize_article(article_text))\n"
   ]
  },
  {
   "cell_type": "code",
   "execution_count": 45,
   "metadata": {},
   "outputs": [
    {
     "name": "stdout",
     "output_type": "stream",
     "text": [
      "Information sharing was classified to risk information sharing and product information sharing, and performance was differentiated to customer service performance, operational effectiveness, and financial performance. Kim et al. Few studies have differentiated risk Green Supply Chain Management orientation 285 information sharing from general information sharing and investigated their differing roles. This paper defines green management orientation in a supply chain context and examines its impact on firm performance that is mediated by trust and information sharing. This study, based on 125 companies from South Korea, shows that GSCM orientation positively influences firm performance via supply chain partners’ trust and information sharing. H6: Product information sharing with supply chain partners is positively related to (a) customer service performance, (b) operational effectiveness, and (c) financial performance. Therefore, H5: Risk information sharing with supply chain partners is positively related to (a) customer service performance, (b) operational effectiveness, and (c) financial performance.\n"
     ]
    }
   ],
   "source": [
    "article_text_file = open(\"abs1Text/Text/kyr11ijsom.txt\",\"r\")\n",
    "article_text = article_text_file.read()\n",
    "print(summarize_article(article_text))\n"
   ]
  }
 ],
 "metadata": {
  "kernelspec": {
   "display_name": "Python 3",
   "language": "python",
   "name": "python3"
  },
  "language_info": {
   "codemirror_mode": {
    "name": "ipython",
    "version": 3
   },
   "file_extension": ".py",
   "mimetype": "text/x-python",
   "name": "python",
   "nbconvert_exporter": "python",
   "pygments_lexer": "ipython3",
   "version": "3.7.1"
  }
 },
 "nbformat": 4,
 "nbformat_minor": 2
}
